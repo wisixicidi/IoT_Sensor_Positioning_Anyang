{
 "cells": [
  {
   "cell_type": "markdown",
   "metadata": {},
   "source": [
    "# Import 목록"
   ]
  },
  {
   "cell_type": "code",
   "execution_count": null,
   "metadata": {},
   "outputs": [],
   "source": [
    "import numpy as np\n",
    "import folium\n",
    "import json\n",
    "import pandas as pd\n",
    "import geopandas as gpd\n",
    "import matplotlib.pyplot as plt\n",
    "from shapely.geometry import Point\n",
    "from sklearn.cluster import KMeans"
   ]
  },
  {
   "cell_type": "markdown",
   "metadata": {},
   "source": [
    "# 제공된 데이터 목록"
   ]
  },
  {
   "cell_type": "code",
   "execution_count": null,
   "metadata": {},
   "outputs": [],
   "source": [
    "from geoband.API import *\n",
    "GetCompasData('SBJ_2009_002', '1', '01.안양시_격자별인구현황(전체).geojson')\n",
    "GetCompasData('SBJ_2009_002', '2', '02.안양시_격자별인구현황(고령).geojson')\n",
    "GetCompasData('SBJ_2009_002', '3', '03.안양시_격자별인구현황(생산가능인구).geojson')\n",
    "GetCompasData('SBJ_2009_002', '4', '04.안양시_격자별인구현황(유소년).geojson')\n",
    "GetCompasData('SBJ_2009_002', '5', '05.안양시_월별_시간대별_유동인구.csv')\n",
    "GetCompasData('SBJ_2009_002', '6', '06.안양시_학교현황.csv')\n",
    "GetCompasData('SBJ_2009_002', '7', '07.안양시_유치원현황.csv')\n",
    "GetCompasData('SBJ_2009_002', '8', '08.안양시_복지회관_보건소현황.csv')\n",
    "GetCompasData('SBJ_2009_002', '9', '09.안양시_병원정보.csv')\n",
    "GetCompasData('SBJ_2009_002', '10', '10.안양시_공장등록현황.csv')\n",
    "GetCompasData('SBJ_2009_002', '11', '11.안양시_공장등록현황_격자별.geojson')\n",
    "GetCompasData('SBJ_2009_002', '12', '12.안양시_비산먼지발생신고_사업장.csv')\n",
    "GetCompasData('SBJ_2009_002', '13', '13.안양시_버스정류장_위치정보.csv')\n",
    "GetCompasData('SBJ_2009_002', '14', '14.안양시_버스정류장별_이용객수.csv')\n",
    "GetCompasData('SBJ_2009_002', '15', '15.안양시_지하철역_위치정보.csv')\n",
    "GetCompasData('SBJ_2009_002', '16', '16.안양시_노드정보.csv')\n",
    "GetCompasData('SBJ_2009_002', '17', '17.안양시_링크정보.geojson')\n",
    "GetCompasData('SBJ_2009_002', '18', '18.안양시_교통량정보.csv')\n",
    "GetCompasData('SBJ_2009_002', '19', '19.안양시_도로명주소_건물.geojson')\n",
    "GetCompasData('SBJ_2009_002', '20', '20.안양시_건물연면적_격자별.geojson')\n",
    "GetCompasData('SBJ_2009_002', '21', '21.안양시_도로명주소_도로.geojson')\n",
    "GetCompasData('SBJ_2009_002', '22', '22.안양시_법정경계(시군구).geojson')\n",
    "GetCompasData('SBJ_2009_002', '23', '23.안양시_법정경계(읍면동).geojson')\n",
    "GetCompasData('SBJ_2009_002', '24', '24.안양시_행정경계(읍면동).geojson')\n",
    "GetCompasData('SBJ_2009_002', '25', '25.안양시_연속지적.geojson')\n",
    "GetCompasData('SBJ_2009_002', '26', '26.안양시_도시계획(공간시설).geojson')\n",
    "GetCompasData('SBJ_2009_002', '27', '27.안양시_도시계획(공공문화체육시설).geojson')\n",
    "GetCompasData('SBJ_2009_002', '28', '28.안양시_도시계획(교통시설).geojson')\n",
    "GetCompasData('SBJ_2009_002', '29', '29.안양시_도시계획(보건위생시설).geojson')\n",
    "GetCompasData('SBJ_2009_002', '30', '30.안양시_도시계획(환경기초시설).geojson')\n",
    "GetCompasData('SBJ_2009_002', '31', '31.코드정의서.xlsx')"
   ]
  },
  {
   "cell_type": "markdown",
   "metadata": {},
   "source": [
    "# 인구현황 데이터 확인"
   ]
  },
  {
   "cell_type": "code",
   "execution_count": null,
   "metadata": {},
   "outputs": [],
   "source": [
    "인구현황 = gpd.read_file('01.안양시_격자별인구현황(전체).geojson')\n",
    "인구현황"
   ]
  },
  {
   "cell_type": "markdown",
   "metadata": {},
   "source": [
    "# 유동인구 데이터 확인"
   ]
  },
  {
   "cell_type": "code",
   "execution_count": null,
   "metadata": {},
   "outputs": [],
   "source": [
    "유동인구 = pd.read_csv('05.안양시_월별_시간대별_유동인구.csv')\n",
    "유동인구"
   ]
  },
  {
   "cell_type": "markdown",
   "metadata": {},
   "source": [
    "# 유동인구 데이터 가공"
   ]
  },
  {
   "cell_type": "code",
   "execution_count": null,
   "metadata": {},
   "outputs": [],
   "source": [
    "유동인구['sum'] = 유동인구.iloc[:, 1:24].sum(axis=1)\n",
    "summary = 유동인구.loc[:, ['lon', 'lat', 'sum']]\n",
    "summary"
   ]
  },
  {
   "cell_type": "markdown",
   "metadata": {},
   "source": [
    "# 버스정류장 위치 데이터 확인"
   ]
  },
  {
   "cell_type": "code",
   "execution_count": null,
   "metadata": {},
   "outputs": [],
   "source": [
    "버정위치 = pd.read_csv('13.안양시_버스정류장_위치정보.csv')\n",
    "버정위치list = 버정위치.values.tolist()\n",
    "버정위치list"
   ]
  },
  {
   "cell_type": "markdown",
   "metadata": {},
   "source": [
    "# 버스정류장 위치 가공"
   ]
  },
  {
   "cell_type": "code",
   "execution_count": null,
   "metadata": {},
   "outputs": [],
   "source": [
    "버정위치_not_name = 버정위치.iloc[:,1:].values.tolist()\n",
    "버정위치_not_name"
   ]
  },
  {
   "cell_type": "markdown",
   "metadata": {},
   "source": [
    "# 공장위치 데이터 확인"
   ]
  },
  {
   "cell_type": "code",
   "execution_count": null,
   "metadata": {},
   "outputs": [],
   "source": [
    "공장위치 = pd.read_csv('10.안양시_공장등록현황.csv')\n",
    "공장위치list = 공장위치.values.tolist()\n",
    "공장위치list"
   ]
  },
  {
   "cell_type": "markdown",
   "metadata": {},
   "source": [
    "# 버스이용고객수 가공"
   ]
  },
  {
   "cell_type": "markdown",
   "metadata": {},
   "source": [
    "##### 버스 이용 고객수를 우리가 이용할수 있는 형태로 변환"
   ]
  },
  {
   "cell_type": "code",
   "execution_count": null,
   "metadata": {},
   "outputs": [],
   "source": [
    "busStop = pd.read_csv('13.안양시_버스정류장_위치정보.csv')\n",
    "sid = busStop['STATION_ID']\n",
    "\n",
    "def find(lst, key, value):\n",
    "    for i, dic in enumerate(lst):\n",
    "        if dic[key] == value:\n",
    "            return i\n",
    "    return -1\n",
    "\n",
    "df = pd.read_csv('14.안양시_버스정류장별_이용객수.csv')\n",
    "df\n",
    "\n",
    "date_list = np.array(list(set(df['일자'])))\n",
    "station_list = np.array([{'sid': i, 'in': [[] for i in range(len(date_list))], 'out': [[] for i in range(len(date_list))]} for i in sid])\n",
    "result = []\n",
    "\n",
    "for date in date_list:\n",
    "    i = 0\n",
    "    tmp = df[df['일자'] == date]\n",
    "    for idx in tmp.index:\n",
    "        sid = df._get_value(idx, '정류소ID')\n",
    "        station_list[find(station_list, 'sid', sid)]['in'][i].append(df._get_value(idx, '전체 승차 건수'))\n",
    "        station_list[find(station_list, 'sid', sid)]['out'][i].append(df._get_value(idx, '전체 하차 건수'))\n",
    "    i += 1\n",
    "    \n",
    "for station in station_list:\n",
    "    in_sum = 0\n",
    "    out_sum = 0\n",
    "    \n",
    "    for i in range(len(station['in'])):\n",
    "        emp_cnt = 0\n",
    "        if not station['in'][i]:\n",
    "            emp_cnt += 1\n",
    "        else:\n",
    "            in_sum += sum(station['in'][i])\n",
    "            out_sum += sum(station['out'][i])\n",
    "    \n",
    "    in_mean = in_sum / (len(station['in']) - emp_cnt)\n",
    "    out_mean = out_sum / (len(station['in']) - emp_cnt)\n",
    "    result.append({'sid': station['sid'], 'in': in_mean, 'out': out_mean})\n",
    "    \n",
    "BusStop = pd.DataFrame(result)\n",
    "BusStop.to_csv('bus_inout.csv')"
   ]
  },
  {
   "cell_type": "code",
   "execution_count": null,
   "metadata": {},
   "outputs": [],
   "source": [
    "bus_df = pd.read_csv('bus_inout.csv').iloc[:,1:]\n",
    "bus_df"
   ]
  },
  {
   "cell_type": "markdown",
   "metadata": {},
   "source": [
    "# 대기오염 파라미터 호출 및 가공"
   ]
  },
  {
   "cell_type": "code",
   "execution_count": null,
   "metadata": {},
   "outputs": [],
   "source": [
    "fac = pd.read_csv('10.안양시_공장등록현황.csv')\n",
    "airpol= fac[['대기오염','lon','lat']]\n",
    "# 대기오염 배출원양에 따른 차등 점수 부여\n",
    "# 1종이 제일 배출량이 많아 가장 높은 점수 부여 \n",
    "for i in range(len(airpol)):\n",
    "    if (airpol.iloc[i][0] == '해당없음'):\n",
    "        airpol.iloc[i,0] = 0\n",
    "    else:\n",
    "        if (airpol.iloc[i][0]== '5종'):\n",
    "            airpol.iloc[i,0] = 1\n",
    "        elif (airpol.iloc[i][0]== '4종'):\n",
    "            airpol.iloc[i,0] = 2\n",
    "        elif (airpol.iloc[i][0]== '3종'):\n",
    "            airpol.iloc[i,0] = 3\n",
    "        elif (airpol.iloc[i][0]== '2종'):\n",
    "            airpol.iloc[i,0] = 4\n",
    "        elif (airpol.iloc[i][0]== '1종'):\n",
    "            airpol.iloc[i,0] = 5\n",
    "\n",
    "# 대기오염원을 배출하지 않는 공장에 대한 행 제거 \n",
    "index = airpol[(airpol['대기오염']==0)].index\n",
    "airpolution = airpol.drop(index)\n",
    "airpolution"
   ]
  },
  {
   "cell_type": "markdown",
   "metadata": {},
   "source": [
    "# 행정경계 데이터 확인"
   ]
  },
  {
   "cell_type": "code",
   "execution_count": null,
   "metadata": {},
   "outputs": [],
   "source": [
    "행정경계=gpd.read_file('24.안양시_행정경계(읍면동).geojson').values.tolist()\n",
    "행정경계"
   ]
  },
  {
   "cell_type": "markdown",
   "metadata": {},
   "source": [
    "# 행정경계 리스트 가공"
   ]
  },
  {
   "cell_type": "code",
   "execution_count": null,
   "metadata": {},
   "outputs": [],
   "source": [
    "행정경계_=gpd.read_file('24.안양시_행정경계(읍면동).geojson')\n",
    "행정경계_list = list(행정경계_['ADM_DR_NM'])\n",
    "행정경계_list"
   ]
  },
  {
   "cell_type": "markdown",
   "metadata": {},
   "source": [
    "# Grid class 정의\n",
    "##### 주어진 데이터를 보면 지리정보가 대부분이며 그 지리정보와 함께 인구데이터, 시설 데이터 등이 주어져있다.\n",
    "##### 주어진 데이터들을 하나의 단위로 묶기 위해서 Grid 라는 class를 정의하여 정보들을 하나로 묶는 작업을 한다."
   ]
  },
  {
   "cell_type": "code",
   "execution_count": null,
   "metadata": {},
   "outputs": [],
   "source": [
    "class Grid:\n",
    "    def __init__(self, _lon=0,_lat=0, _Population = 0, _FloatingPopulation = 0,_PrimaryKey=0,_evening_FP=0,_is_Anyang=0):\n",
    "        self.All_score=0     # 생활인구를 나타내기 위한 지표로 pop_score+fpop_score_+bus_score \n",
    "        self.pop_score=0     # 거주인구를 나타내는 변수 : Population 변수를 4분위로 나누어서 점수를 부여\n",
    "        self.fpop_score=0     # 유동인구를 나타내는 변수 : FloatingPopulation 변수를 4분위로 나누어서 점수를 부여\n",
    "        self.bus_score=0     #버스 이용객 수를 나타내는 변수 : inout 변수를 4분위로 나누어서 점수를 부여\n",
    "        self.Dong=''     # 해당 격자가 속해있는 동의 이름\n",
    "        self.Bus_Station=[]     #해당 격자 내에 버스정류장\n",
    "        self.inout=0     # 해당 격자 내에 버스 이용객 수를 나타내는 변수\n",
    "        self.Factory=[]     # 해당 격자 내에 있는 공장\n",
    "        self.is_Anyang=_is_Anyang     # Grid_class를 만들때 경계에 있는 격자를 처리하기 위한 변수\n",
    "        self.PrimaryKey=_PrimaryKey     # Grid 객체마다 고유의 숫자를 부여하여 중복을 피함\n",
    "        self.Lon=_lon      #Longitude , x , 경도\n",
    "        self.Lat=_lat      #Latitude , y , 위도\n",
    "        self.Population = _Population # 거주인구수\n",
    "        self.FloatingPopulation=_FloatingPopulation #유동인구수 리스트를 평균내서 구함\n",
    "        self.airpolution_score=0\n",
    "        self.FloatingPopulation_list = [] #유동인구수 리스트\n",
    "        self.old_people=0\n",
    "        self.youth=0\n",
    "    \n",
    "    # 프린트함수\n",
    "    def __str__(self):\n",
    "        return \"우선순위 : {}\\n주소 : 경기도 안양시 {}\\n경도,위도 :({},{})\\n비고 : {}.\".format(self.Dong,self.Dong,self.Lon,self.Lat,self.Dong)\n",
    "    \n",
    "    # 등위 연산자 정의\n",
    "    def __eq__(self,G):\n",
    "        if (self.Lon==G.Lon) and (self.Lat==G.Lat):\n",
    "            return True\n",
    "        else:\n",
    "            return False\n",
    "    "
   ]
  },
  {
   "cell_type": "markdown",
   "metadata": {},
   "source": [
    "# Grid_list 만드는 셀\n",
    "##### 안양시 지도에서 위도 경도의 최소,최대값을 구하여 먼저 정사각형의 격자를 만든다."
   ]
  },
  {
   "cell_type": "code",
   "execution_count": null,
   "metadata": {},
   "outputs": [],
   "source": [
    "x_min,y_min = 126869, 37358\n",
    "x_max,y_max = 126983, 37450\n",
    "not_anyang=[]     #후에 안양시 경계에 놓여있는 격자를 처리하기 위한 변수\n",
    "Grid_list=[]     # 안양시 지도를 일정 단위로 나누어 저장한 Grid 들을 담고있는 list\n",
    "count=0     # PrimaryKey를 부여하기위해 놓은 변수\n",
    "\n",
    "# 격자를 먼저 만들어놓고 추후에 값들을 넣고 필요없는 격자를 빼는 식으로 한다.\n",
    "for i in range(y_min,y_max):\n",
    "    for j in range(x_min,x_max):\n",
    "        temp=Grid(j/1000,i/1000,_Population=0,_FloatingPopulation=0,_PrimaryKey=count)\n",
    "        Grid_list.append(temp)\n",
    "        count+=1"
   ]
  },
  {
   "cell_type": "markdown",
   "metadata": {},
   "source": [
    "# Population 관련함수"
   ]
  },
  {
   "cell_type": "code",
   "execution_count": null,
   "metadata": {},
   "outputs": [],
   "source": [
    "# Population 함수\n",
    "# 해당 위도 경도에 맞는 격자를 찾아서 반환\n",
    "def Search_index(temp):\n",
    "    # input = [위도,경도]\n",
    "    grid=Grid(_floor(temp[0]),_floor(temp[1]))\n",
    "    try :\n",
    "        # 위도 경도로 검색한 격자가 있을 경우 해당 인덱스를 반환\n",
    "        result = Grid_list.index(grid)\n",
    "        return result\n",
    "    except :\n",
    "        # 위도 경도로 검색한 격자가 없을 경우 -1을 리턴\n",
    "        return -1\n",
    "\n",
    "# grid.Population 의 변수에 인구수를 더해줌\n",
    "def P_Grid(temp):\n",
    "    index = Search_index(temp)\n",
    "    Grid_list[index].Population+=temp[2]\n",
    "    Grid_list[index].is_Anyang+=1\n",
    "    return\n",
    "\n",
    "def older_Grid(temp):\n",
    "    index = Search_index(temp)\n",
    "    Grid_list[index].old_people+=temp[2]\n",
    "    Grid_list[index].is_Anyang+=1\n",
    "    return\n",
    "\n",
    "def youth_Grid(temp):\n",
    "    index = Search_index(temp)\n",
    "    Grid_list[index].youth+=temp[2]\n",
    "    Grid_list[index].is_Anyang+=1\n",
    "    return\n",
    "\n",
    "# Grid_list에 있는 모든 grid에 인구수를 전부 더해줌\n",
    "def input_Population(temp):\n",
    "    for i in range(len(temp)):\n",
    "        P_Grid(temp[i])\n",
    "        \n",
    "def input_older(temp):\n",
    "    for i in range(len(temp)):\n",
    "        older_Grid(temp[i])\n",
    "        \n",
    "def input_youth(temp):\n",
    "    for i in range(len(temp)):\n",
    "        youth_Grid(temp[i])\n"
   ]
  },
  {
   "cell_type": "markdown",
   "metadata": {},
   "source": [
    "# FloatingPopulaion 함수"
   ]
  },
  {
   "cell_type": "code",
   "execution_count": null,
   "metadata": {},
   "outputs": [],
   "source": [
    "# FloatingPopulation 함수\n",
    "# FloatingPopulation_list 에 하나식 더해줌\n",
    "def FP_Grid(temp):\n",
    "    index = Search_index(temp)\n",
    "    Grid_list[index].FloatingPopulation_list.append(temp[2])\n",
    "    Grid_list[index].is_Anyang+=1\n",
    "\n",
    "\n",
    "# FloatingPopulation_list에서 평균을 계산하여 FloatingPopulation에 넣어줌\n",
    "# FloatingPopulation 자료가 월별로 되어있기 떄문\n",
    "def update_FP():\n",
    "    i_list=[]\n",
    "    for i in Grid_list:\n",
    "        if i.is_Anyang==0:\n",
    "            i_list.append(i)\n",
    "        try :\n",
    "            i.FloatingPopulation = sum(i.FloatingPopulation_list) / len(i.FloatingPopulation_list)\n",
    "            \n",
    "        except :\n",
    "            #유동인구가 0 일경우\n",
    "            i.FloatingPopulation=0\n",
    "    for j in i_list:\n",
    "        not_anyang.append(j)\n",
    "        delete_grid(j)\n",
    "    for k in not_anyang:\n",
    "        if between_true(k):\n",
    "            index = Search_index([k.Lon,k.Lat])\n",
    "            Grid_list.insert(index+1,k)\n",
    "        \n",
    "#Grid_list 에 FP를 넣어줌\n",
    "def input_FPopulation(temp):\n",
    "    for i in range(len(temp)):\n",
    "        FP_Grid(temp[i])\n",
    "    update_FP()\n"
   ]
  },
  {
   "cell_type": "markdown",
   "metadata": {},
   "source": [
    "# Bus_Stop 함수"
   ]
  },
  {
   "cell_type": "code",
   "execution_count": null,
   "metadata": {},
   "outputs": [],
   "source": [
    "# 위도 경도를 통해서 해당 버스정류장 id를 가진 grid를 반환\n",
    "def Search_index_bus(temp):\n",
    "    grid=Grid(_floor(temp[2]),_floor(temp[3]))\n",
    "    try :\n",
    "        result = Grid_list.index(grid)\n",
    "        return result\n",
    "    except :\n",
    "        return -1\n",
    "    \n",
    "# 모든 Grid_list에 버스 정류장 정보를 더해줌\n",
    "def Bus_Station_Add(temp):\n",
    "    #temp=[버정이름,id,lon,lat]가 담긴 리스트\n",
    "    for i in temp:\n",
    "        index = Search_index_bus(i)\n",
    "        Grid_list[index].Bus_Station.append(i)"
   ]
  },
  {
   "cell_type": "markdown",
   "metadata": {},
   "source": [
    "# Factory 함수"
   ]
  },
  {
   "cell_type": "code",
   "execution_count": null,
   "metadata": {},
   "outputs": [],
   "source": [
    "# 위도 경도를 통해서 해당 공장 위치 인덱스를 찾음\n",
    "def Search_index_factory(temp):\n",
    "    grid=Grid(_floor(temp[10]),_floor(temp[11]))\n",
    "    try :\n",
    "        result = Grid_list.index(grid)\n",
    "        return result\n",
    "    except :\n",
    "        return -1\n",
    "\n",
    "#모든 공장 정보를 Grid_list에 더해줌\n",
    "def Factory_Add(temp):\n",
    "    for i in temp:\n",
    "        index = Search_index_factory(i)\n",
    "        Grid_list[index].Factory.append(i)"
   ]
  },
  {
   "cell_type": "markdown",
   "metadata": {},
   "source": [
    "# Bus 유동인구 함수"
   ]
  },
  {
   "cell_type": "code",
   "execution_count": null,
   "metadata": {},
   "outputs": [],
   "source": [
    "#inout_score : 버스에서 타고 내리는 인원수를 더한 값으로 유동인구 정보로 활용한다.\n",
    "#inout 점수를 grid에 부여한다\n",
    "def add_inout_score(temp):\n",
    "    inout_score=0\n",
    "    bus_id = bus_df[bus_df['sid']==temp[0]].values.tolist()[0][0]\n",
    "    inout_score = bus_df[bus_df['sid']==temp[0]].values.tolist()[0][1]+bus_df[bus_df['sid']==temp[0]].values.tolist()[0][2]\n",
    "    lon = _floor(버정위치[버정위치['STATION_ID']==bus_id].values.tolist()[0][2])\n",
    "    lat = _floor(버정위치[버정위치['STATION_ID']==bus_id].values.tolist()[0][3])\n",
    "    index = Search_index([lon,lat])\n",
    "    Grid_list[index].inout=inout_score\n",
    "    return\n",
    "\n",
    "# 모든 grid에 inout점수를 부여한다.\n",
    "def all_add_inout_score(temp):\n",
    "    for i in temp:\n",
    "        add_inout_score(i)\n",
    "    return"
   ]
  },
  {
   "cell_type": "markdown",
   "metadata": {},
   "source": [
    "# 그 외의 함수"
   ]
  },
  {
   "cell_type": "code",
   "execution_count": null,
   "metadata": {},
   "outputs": [],
   "source": [
    "### 그 외의 함수\n",
    "### 위도 경도를 소수점 3자리 까지 가공해주는 함수\n",
    "def _floor(temp):\n",
    "    result = int(temp*1000)/1000\n",
    "    return result\n",
    "\n",
    "#해당 격자를 제거한다.\n",
    "def delete_grid(temp):\n",
    "    val=[temp.Lon,temp.Lat]\n",
    "    index = Search_index(val)\n",
    "    del Grid_list[index]\n",
    "\n",
    "#격자 정보를 json파일에 저장하기 위하여 변수들의 특성을 dictionary 형식으로 변환한다.\n",
    "def make_feature(temp):\n",
    "    lon = temp.Lon\n",
    "    lat = temp.Lat\n",
    "    a,b,c,d=[],[],[],[]\n",
    "    a=[lon,lat]\n",
    "    b=[lon, lat+0.001]\n",
    "    c=[lon+0.001,lat+0.001]\n",
    "    d=[lon+0.001,lat]\n",
    "    coordinate=[[[a,b,c,d,a]]]\n",
    "    geometry={\n",
    "        'type':\"MultiPolygon\",\n",
    "        \"coordinates\":coordinate,\n",
    "    }\n",
    "    properties={\n",
    "        \"PrimaryKey\" : temp.PrimaryKey,\n",
    "        \"Population\":temp.Population,\n",
    "        \"FloatingPopulation\" : temp.FloatingPopulation,\n",
    "        \"busstop_count\" : len(temp.Bus_Station),\n",
    "        \"factory_count\" : len(temp.Factory),\n",
    "        'bus_inout' : temp.inout,\n",
    "        \"All_score\" : int(str(temp.All_score[0])),\n",
    "        'old_people' : temp.old_people,\n",
    "        'youth' : temp.youth,\n",
    "    }\n",
    "    return {\"type\" : \"Feature\",\"properties\":properties,\"geometry\":geometry}\n",
    "\n",
    "# 모든 격자에 대하여 make_feature을 실행한다.\n",
    "def make_features(temp):\n",
    "    result=[]\n",
    "    for i in Grid_list:\n",
    "        result.append(make_feature(i))\n",
    "    return result\n",
    "\n",
    "\n",
    "# geojson파일을 만들기 위한 가공\n",
    "def make_json(temp):\n",
    "    values=make_features(temp)\n",
    "    result={\n",
    "        \"type\":'FeatureCollection',\n",
    "        \"name\":'18',\n",
    "        \"crs\": { \"type\": \"name\", \"properties\": { \"name\": \"urn:ogc:def:crs:OGC:1.3:CRS84\" } },\n",
    "        'features':values\n",
    "    }\n",
    "    return result\n",
    "\n",
    "# grid의 위치를 정확히 찾기위한 부가함수\n",
    "def between_true(grid):\n",
    "    L=Grid(grid.Lon-0.001,grid.Lat,_PrimaryKey=grid.PrimaryKey-1)\n",
    "    R=Grid(grid.Lon+0.001,grid.Lat,_PrimaryKey=grid.PrimaryKey+1)\n",
    "    if find_pk(L)!=-1 and find_pk(R)!=-1:\n",
    "        return True\n",
    "    else :\n",
    "        return False\n",
    "\n",
    "# PrimaryKey를 기준으로 grid를 찾는다.\n",
    "def find_pk(grid):\n",
    "    for i in Grid_list:\n",
    "        if i.PrimaryKey==grid.PrimaryKey:\n",
    "            return i.PrimaryKey\n",
    "    return -1\n",
    "\n",
    "#geojson파일을 저장한다.\n",
    "def save_json():\n",
    "    import json\n",
    "    file_path=\"./Grid.geojson\"\n",
    "    result = make_json(Grid_list)\n",
    "    \n",
    "    with open(file_path,'w') as outfile:\n",
    "        json.dump(result,outfile)\n",
    "        \n",
    "    return \n",
    "\n",
    "def save_json_final():\n",
    "    import json\n",
    "    file_path=\"./Final_Map.geojson\"\n",
    "    result = make_json(Grid_list)\n",
    "    \n",
    "    with open(file_path,'w') as outfile:\n",
    "        json.dump(result,outfile)\n",
    "        \n",
    "    return \n",
    "\n",
    "# grid를 point 형식으로 변환한다.\n",
    "def grid_to_point(grid):\n",
    "    x = grid.Lon\n",
    "    y = grid.Lat\n",
    "    return Point(x,y)\n",
    "\n",
    "# grid가 해당 multipolygon에 있는지 검사한다.\n",
    "def is_in_multipolygon(grid):\n",
    "    point = grid_to_point(grid)\n",
    "    for m in 행정경계:\n",
    "        if point.within(m[2]):\n",
    "            return m\n",
    "\n",
    "# Grid_list에 동에 관한 정보를 더한다.\n",
    "def input_Dong(grid_list):\n",
    "    temp_list=[]\n",
    "    for grid in grid_list:\n",
    "        try:\n",
    "            dong = is_in_multipolygon(grid)[1]\n",
    "            grid.Dong = dong\n",
    "        except:\n",
    "            temp_list.append(grid)\n",
    "    for temp in temp_list:\n",
    "        grid_list.remove(temp)\n",
    "    return\n",
    "\n",
    "\n",
    "# grid_list를 만든다\n",
    "# 사분위값과 중간값을 추출하고 all score를 만들기 위함\n",
    "def make_grid_df(grid_list):\n",
    "    cols=['PrimaryKey','Dong','inout','Population','FloatingPopulation','old_people','youth','Lon','Lat']\n",
    "    vals=[]\n",
    "    for i in Grid_list:\n",
    "        value=[i.PrimaryKey,i.Dong,i.inout,i.Population,i.FloatingPopulation,i.old_people,i.youth,i.Lon,i.Lat]\n",
    "        vals.append(value)\n",
    "    return pd.DataFrame(vals,columns=cols)\n",
    "\n",
    "\n",
    "# grid_list를 만든다\n",
    "# 사분위값과 중간값을 추출하고 all score를 만들기 위함\n",
    "def add_grid_df(grid_list):\n",
    "    import numpy as np\n",
    "    dataframe = make_grid_df(grid_list)\n",
    "    all_score=[]\n",
    "    bus_score=[]\n",
    "    pop_score=[]\n",
    "    fpop_score=[]\n",
    "    for k in range(len(dataframe)):\n",
    "        i=dataframe.iloc[k][2]\n",
    "        p=dataframe.iloc[k][3]\n",
    "        f=dataframe.iloc[k][4]\n",
    "        if i<q1[0]:\n",
    "            bus_score.append(1)\n",
    "        elif q1[0]<=i<m[0]:\n",
    "            bus_score.append(2)\n",
    "        elif m[0]<=i<q3[0]:\n",
    "            bus_score.append(3)\n",
    "        else:\n",
    "            bus_score.append(4)\n",
    "            \n",
    "        if p<q1[1]:\n",
    "            pop_score.append(1)\n",
    "        elif q1[1]<=p<m[1]:\n",
    "            pop_score.append(2)\n",
    "        elif m[1]<=p<q3[1]:\n",
    "            pop_score.append(3)\n",
    "        else:\n",
    "            pop_score.append(4)\n",
    "            \n",
    "        if f<q1[2]:\n",
    "            fpop_score.append(1)\n",
    "        elif q1[2]<=f<m[2]:\n",
    "            fpop_score.append(2)\n",
    "        elif m[2]<=f<q3[2]:\n",
    "            fpop_score.append(3)\n",
    "        else:\n",
    "            fpop_score.append(4)\n",
    "    dataframe['fpop_score']=np.array(fpop_score)\n",
    "    dataframe['pop_score']=np.array(pop_score)\n",
    "    dataframe['bus_score']=np.array(bus_score)\n",
    "    dataframe['All_score']=np.array(bus_score)+np.array(pop_score)+np.array(fpop_score)\n",
    "    return dataframe\n",
    "\n",
    "#grid를 KMeans 를 활용하기 위해 numpy 배열 형태로 변환한다.\n",
    "def grid_to_array(grid):\n",
    "    lon=grid.Lon\n",
    "    lat=grid.Lat\n",
    "    all_score = grid.All_score\n",
    "    return np.array([lon,lat,all_score])\n",
    "\n",
    "def add_airpolution_score(df):\n",
    "    temp = df.values.tolist()\n",
    "    for i in temp:\n",
    "        lon=float(str(i[1]))\n",
    "        lat=float(str(i[2]))\n",
    "        index = Search_index([lon,lat])\n",
    "        if index==-1:\n",
    "            continue\n",
    "        Grid_list[index].airpolution_score+=int(i[0])"
   ]
  },
  {
   "cell_type": "markdown",
   "metadata": {},
   "source": [
    "# 격자별 전체 인구현황 데이터 가져오기"
   ]
  },
  {
   "cell_type": "code",
   "execution_count": null,
   "metadata": {},
   "outputs": [],
   "source": [
    "pop_data = gpd.read_file('01.안양시_격자별인구현황(전체).geojson')\n",
    "lat = []\n",
    "lon = []\n",
    "val = []\n",
    "for geo in pop_data['geometry']:\n",
    "    x,y = geo[0].exterior.xy\n",
    "    lon.append(x[0])\n",
    "    lat.append(y[0])\n",
    "for pop in pop_data['val']:\n",
    "    val.append(pop)\n",
    "lo_info = pd.DataFrame({'lon': lon, 'lat':lat, 'val':val})\n",
    "lo_info.fillna(0,inplace=True)\n",
    "lo_list = []\n",
    "for i in range(len(lo_info)):\n",
    "    info = lo_info.iloc[i].tolist()\n",
    "    lo_list.append(info)"
   ]
  },
  {
   "cell_type": "code",
   "execution_count": null,
   "metadata": {},
   "outputs": [],
   "source": [
    "input_Population(lo_list)"
   ]
  },
  {
   "cell_type": "markdown",
   "metadata": {},
   "source": [
    "# 격자별 노인 인구현황 데이터 가져오기"
   ]
  },
  {
   "cell_type": "code",
   "execution_count": null,
   "metadata": {},
   "outputs": [],
   "source": [
    "pop_data = gpd.read_file('02.안양시_격자별인구현황(고령).geojson')\n",
    "lat = []\n",
    "lon = []\n",
    "val = []\n",
    "for geo in pop_data['geometry']:\n",
    "    x,y = geo[0].exterior.xy\n",
    "    lon.append(x[0])\n",
    "    lat.append(y[0])\n",
    "for pop in pop_data['val']:\n",
    "    val.append(pop)\n",
    "lo_info = pd.DataFrame({'lon': lon, 'lat':lat, 'val':val})\n",
    "lo_info.fillna(0,inplace=True)\n",
    "lo_list = []\n",
    "for i in range(len(lo_info)):\n",
    "    info = lo_info.iloc[i].tolist()\n",
    "    lo_list.append(info)"
   ]
  },
  {
   "cell_type": "code",
   "execution_count": null,
   "metadata": {},
   "outputs": [],
   "source": [
    "input_older(lo_list)"
   ]
  },
  {
   "cell_type": "markdown",
   "metadata": {},
   "source": [
    "# 격자별 유소년 인구현황 데이터 가져오기"
   ]
  },
  {
   "cell_type": "code",
   "execution_count": null,
   "metadata": {},
   "outputs": [],
   "source": [
    "pop_data = gpd.read_file('04.안양시_격자별인구현황(유소년).geojson')\n",
    "lat = []\n",
    "lon = []\n",
    "val = []\n",
    "for geo in pop_data['geometry']:\n",
    "    x,y = geo[0].exterior.xy\n",
    "    lon.append(x[0])\n",
    "    lat.append(y[0])\n",
    "for pop in pop_data['val']:\n",
    "    val.append(pop)\n",
    "lo_info = pd.DataFrame({'lon': lon, 'lat':lat, 'val':val})\n",
    "lo_info.fillna(0,inplace=True)\n",
    "lo_list = []\n",
    "for i in range(len(lo_info)):\n",
    "    info = lo_info.iloc[i].tolist()\n",
    "    lo_list.append(info)"
   ]
  },
  {
   "cell_type": "code",
   "execution_count": null,
   "metadata": {},
   "outputs": [],
   "source": [
    "input_youth(lo_list)"
   ]
  },
  {
   "cell_type": "markdown",
   "metadata": {},
   "source": [
    "# Bus 데이터 인풋"
   ]
  },
  {
   "cell_type": "code",
   "execution_count": null,
   "metadata": {},
   "outputs": [],
   "source": [
    "Bus_Station_Add(버정위치list)"
   ]
  },
  {
   "cell_type": "markdown",
   "metadata": {},
   "source": [
    "# Factory 데이터 인풋"
   ]
  },
  {
   "cell_type": "code",
   "execution_count": null,
   "metadata": {},
   "outputs": [],
   "source": [
    "Factory_Add(공장위치list)"
   ]
  },
  {
   "cell_type": "markdown",
   "metadata": {},
   "source": [
    "### FloatingPopulation 데이터 넣는함수 실행"
   ]
  },
  {
   "cell_type": "code",
   "execution_count": null,
   "metadata": {},
   "outputs": [],
   "source": [
    "input_FPopulation(summary.values.tolist())"
   ]
  },
  {
   "cell_type": "markdown",
   "metadata": {},
   "source": [
    "# bus 유동인구 실행"
   ]
  },
  {
   "cell_type": "code",
   "execution_count": null,
   "metadata": {},
   "outputs": [],
   "source": [
    "all_add_inout_score(버정위치_not_name)"
   ]
  },
  {
   "cell_type": "markdown",
   "metadata": {},
   "source": [
    "# Input_Dong 실행"
   ]
  },
  {
   "cell_type": "code",
   "execution_count": null,
   "metadata": {},
   "outputs": [],
   "source": [
    "input_Dong(Grid_list)"
   ]
  },
  {
   "cell_type": "markdown",
   "metadata": {},
   "source": [
    "# 대기오염점수"
   ]
  },
  {
   "cell_type": "code",
   "execution_count": null,
   "metadata": {},
   "outputs": [],
   "source": [
    "add_airpolution_score(airpolution)"
   ]
  },
  {
   "cell_type": "markdown",
   "metadata": {},
   "source": [
    "# Dong_dict 생성"
   ]
  },
  {
   "cell_type": "code",
   "execution_count": null,
   "metadata": {},
   "outputs": [],
   "source": [
    "Dong_dict={}\n",
    "for i in 행정경계_list:\n",
    "    Dong_dict[i]=[]\n",
    "for grid in Grid_list:\n",
    "    Dong_dict[grid.Dong].append(grid)"
   ]
  },
  {
   "cell_type": "markdown",
   "metadata": {},
   "source": [
    "# 4분위 값과 중간값을 만든다"
   ]
  },
  {
   "cell_type": "code",
   "execution_count": null,
   "metadata": {},
   "outputs": [],
   "source": [
    "df=make_grid_df(Grid_list).describe()\n",
    "df"
   ]
  },
  {
   "cell_type": "code",
   "execution_count": null,
   "metadata": {},
   "outputs": [],
   "source": [
    "df=make_grid_df(Grid_list).describe()\n",
    "q1 = df.iloc[4][['inout','Population','FloatingPopulation']]\n",
    "m = df.iloc[5][['inout','Population','FloatingPopulation']]\n",
    "q3 = df.iloc[6][['inout','Population','FloatingPopulation']]\n",
    "grid_df= add_grid_df(Grid_list)"
   ]
  },
  {
   "cell_type": "markdown",
   "metadata": {},
   "source": [
    "# Grid_list에 All_score 더함"
   ]
  },
  {
   "cell_type": "code",
   "execution_count": null,
   "metadata": {},
   "outputs": [],
   "source": [
    "for grid in Grid_list:\n",
    "    grid.All_score = grid_df[grid_df['PrimaryKey']==grid.PrimaryKey]['All_score'].values\n",
    "    grid.bus_score = grid_df[grid_df['PrimaryKey']==grid.PrimaryKey]['bus_score']\n",
    "    grid.pop_score = grid_df[grid_df['PrimaryKey']==grid.PrimaryKey]['pop_score']\n",
    "    grid.fpop_score = grid_df[grid_df['PrimaryKey']==grid.PrimaryKey]['fpop_score']"
   ]
  },
  {
   "cell_type": "markdown",
   "metadata": {},
   "source": [
    "### JSON파일 저장셀"
   ]
  },
  {
   "cell_type": "code",
   "execution_count": null,
   "metadata": {},
   "outputs": [],
   "source": [
    "save_json()"
   ]
  },
  {
   "cell_type": "markdown",
   "metadata": {},
   "source": [
    "# 유동인구를 만든 격자에 넣어서 시각화 하는 HTML파일을 만든다"
   ]
  },
  {
   "cell_type": "code",
   "execution_count": null,
   "metadata": {},
   "outputs": [],
   "source": [
    "center = (37.403109, 126.932585); zoom = 14\n",
    "\n",
    "m = folium.Map(location=center,\n",
    "           zoom_start=zoom,\n",
    "           tiles='http://api.vworld.kr/req/wmts/1.0.0/80F9E6B6-38BE-3770-AA9B-2C9ADEDD0458/Base/{z}/{y}/{x}.png',\n",
    "           attr='안양시'\n",
    "              )\n",
    "\n",
    "grid_data = gpd.read_file('Grid.geojson')\n",
    "pk_data = grid_data[['PrimaryKey', 'FloatingPopulation']]\n",
    "\n",
    "m.choropleth(\n",
    "    geo_data=grid_data,\n",
    "    data=pk_data,\n",
    "    columns=['PrimaryKey', 'FloatingPopulation'],\n",
    "    key_on='feature.properties.PrimaryKey',\n",
    "    fill_color='RdPu',\n",
    "    fill_opacity=0.8,\n",
    "    line_opacity=0.5,\n",
    "    color = 'gray',\n",
    "    legend_name = 'FloatingPopulation'\n",
    ")\n",
    "\n",
    "folium.LayerControl().add_to(m)\n",
    "\n",
    "# Save to html\n",
    "m.save('유동인구.html')"
   ]
  },
  {
   "cell_type": "markdown",
   "metadata": {},
   "source": [
    "# 버스정류장을 만든 격자에 넣어서 시각화 하는 HTML파일을 만든다"
   ]
  },
  {
   "cell_type": "code",
   "execution_count": null,
   "metadata": {},
   "outputs": [],
   "source": [
    "center = (37.403109, 126.932585); zoom = 14\n",
    "\n",
    "m = folium.Map(location=center,\n",
    "           zoom_start=zoom,\n",
    "           tiles='http://api.vworld.kr/req/wmts/1.0.0/80F9E6B6-38BE-3770-AA9B-2C9ADEDD0458/Base/{z}/{y}/{x}.png',\n",
    "           attr='안양시'\n",
    "              )\n",
    "\n",
    "grid_data = gpd.read_file('Grid.geojson')\n",
    "pk_data = grid_data[['PrimaryKey', 'busstop_count']]\n",
    "\n",
    "m.choropleth(\n",
    "    geo_data=grid_data,\n",
    "    data=pk_data,\n",
    "    columns=['PrimaryKey', 'busstop_count'],\n",
    "    key_on='feature.properties.PrimaryKey',\n",
    "    fill_color='RdPu',\n",
    "    fill_opacity=0.8,\n",
    "    line_opacity=0.5,\n",
    "    color = 'gray',\n",
    "    legend_name = 'busstop_count'\n",
    ")\n",
    "\n",
    "rfile = open('24.안양시_행정경계(읍면동).geojson', 'r').read()\n",
    "jsonData = json.loads(rfile)\n",
    "folium.GeoJson(jsonData, name='json_data').add_to(m)\n",
    "\n",
    "\n",
    "folium.LayerControl().add_to(m)\n",
    "\n",
    "# Save to html\n",
    "m.save('버스정류장.html')"
   ]
  },
  {
   "cell_type": "markdown",
   "metadata": {},
   "source": [
    "# 공장위치를 만든 격자에 넣어서 시각화 하는 HTML파일을 만든다"
   ]
  },
  {
   "cell_type": "code",
   "execution_count": null,
   "metadata": {},
   "outputs": [],
   "source": [
    "center = (37.403109, 126.932585); zoom = 14\n",
    "\n",
    "m = folium.Map(location=center,\n",
    "           zoom_start=zoom,\n",
    "           tiles='http://api.vworld.kr/req/wmts/1.0.0/80F9E6B6-38BE-3770-AA9B-2C9ADEDD0458/Base/{z}/{y}/{x}.png',\n",
    "           attr='안양시'\n",
    "              )\n",
    "\n",
    "grid_data = gpd.read_file('Grid.geojson')\n",
    "pk_data = grid_data[['PrimaryKey', 'factory_count']]\n",
    "\n",
    "m.choropleth(\n",
    "    geo_data=grid_data,\n",
    "    data=pk_data,\n",
    "    columns=['PrimaryKey', 'factory_count'],\n",
    "    key_on='feature.properties.PrimaryKey',\n",
    "    fill_color='RdPu',\n",
    "    fill_opacity=0.8,\n",
    "    line_opacity=0.5,\n",
    "    color = 'gray',\n",
    "    legend_name = 'factory_count'\n",
    ")\n",
    "\n",
    "folium.LayerControl().add_to(m)\n",
    "\n",
    "# Save to html\n",
    "m.save('공장.html')"
   ]
  },
  {
   "cell_type": "markdown",
   "metadata": {},
   "source": [
    "# 버스이용객 정보를 만든 격자에 넣어서 시각화 하는 HTML파일을 만든다"
   ]
  },
  {
   "cell_type": "code",
   "execution_count": null,
   "metadata": {},
   "outputs": [],
   "source": [
    "center = (37.403109, 126.932585); zoom = 14\n",
    "\n",
    "m = folium.Map(location=center,\n",
    "           zoom_start=zoom,\n",
    "           tiles='http://api.vworld.kr/req/wmts/1.0.0/80F9E6B6-38BE-3770-AA9B-2C9ADEDD0458/Base/{z}/{y}/{x}.png',\n",
    "           attr='안양시'\n",
    "              )\n",
    "\n",
    "grid_data = gpd.read_file('Grid.geojson')\n",
    "pk_data = grid_data[['PrimaryKey', 'bus_inout']]\n",
    "\n",
    "m.choropleth(\n",
    "    geo_data=grid_data,\n",
    "    data=pk_data,\n",
    "    columns=['PrimaryKey', 'bus_inout'],\n",
    "    key_on='feature.properties.PrimaryKey',\n",
    "    fill_color='RdPu',\n",
    "    fill_opacity=0.8,\n",
    "    line_opacity=0.5,\n",
    "    color = 'gray',\n",
    "    legend_name = 'bus_inout'\n",
    ")\n",
    "\n",
    "folium.LayerControl().add_to(m)\n",
    "\n",
    "# Save to html\n",
    "m.save('버스유동.html')"
   ]
  },
  {
   "cell_type": "markdown",
   "metadata": {},
   "source": [
    "# 격자별 인구현황 고령 html"
   ]
  },
  {
   "cell_type": "code",
   "execution_count": null,
   "metadata": {},
   "outputs": [],
   "source": [
    "center = (37.403109, 126.932585); zoom = 14\n",
    "\n",
    "m = folium.Map(location=center,\n",
    "           zoom_start=zoom,\n",
    "           tiles='http://api.vworld.kr/req/wmts/1.0.0/80F9E6B6-38BE-3770-AA9B-2C9ADEDD0458/Base/{z}/{y}/{x}.png',\n",
    "           attr='안양시'\n",
    "              )\n",
    "\n",
    "grid_data = gpd.read_file('Grid.geojson')\n",
    "pk_data = grid_data[['PrimaryKey', 'old_people']]\n",
    "\n",
    "m.choropleth(\n",
    "    geo_data=grid_data,\n",
    "    data=pk_data,\n",
    "    columns=['PrimaryKey', 'old_people'],\n",
    "    key_on='feature.properties.PrimaryKey',\n",
    "    fill_color='RdPu',\n",
    "    fill_opacity=0.8,\n",
    "    line_opacity=0.5,\n",
    "    color = 'gray',\n",
    "    legend_name = 'old_people'\n",
    ")\n",
    "\n",
    "folium.LayerControl().add_to(m)\n",
    "\n",
    "# Save to html\n",
    "m.save('old_people.html')"
   ]
  },
  {
   "cell_type": "markdown",
   "metadata": {},
   "source": [
    "# 격자별 인구현황 유소년 html"
   ]
  },
  {
   "cell_type": "code",
   "execution_count": null,
   "metadata": {},
   "outputs": [],
   "source": [
    "center = (37.403109, 126.932585); zoom = 14\n",
    "\n",
    "m = folium.Map(location=center,\n",
    "           zoom_start=zoom,\n",
    "           tiles='http://api.vworld.kr/req/wmts/1.0.0/80F9E6B6-38BE-3770-AA9B-2C9ADEDD0458/Base/{z}/{y}/{x}.png',\n",
    "           attr='안양시'\n",
    "              )\n",
    "\n",
    "grid_data = gpd.read_file('Grid.geojson')\n",
    "pk_data = grid_data[['PrimaryKey', 'youth']]\n",
    "\n",
    "m.choropleth(\n",
    "    geo_data=grid_data,\n",
    "    data=pk_data,\n",
    "    columns=['PrimaryKey', 'youth'],\n",
    "    key_on='feature.properties.PrimaryKey',\n",
    "    fill_color='RdPu',\n",
    "    fill_opacity=0.8,\n",
    "    line_opacity=0.5,\n",
    "    color = 'gray',\n",
    "    legend_name = 'youth'\n",
    ")\n",
    "\n",
    "folium.LayerControl().add_to(m)\n",
    "\n",
    "# Save to html\n",
    "m.save('youth.html')"
   ]
  },
  {
   "cell_type": "markdown",
   "metadata": {},
   "source": [
    "# KMeans 비지도학습을 위한 사전 데이터 학습\n",
    "##### 각 동마다 적절한 수의 복합센서를 설치하기 위해  동 마다  Elbow method를 활용하여 최적의 cluster 개수를 찾는다\n",
    "##### cluster 개수에 따른 inertia 의 수치를 plot 하여 시각화한다.\n",
    "##### 격자마다 All_score 라는 변수를 부여했고 해당 변수는 거주인구와 유동인구의 수를 나타내는 파라미터로 활용한다.\n",
    "##### 임계값을 최대 12까지 줄 수 있고 그 임계값 이상의 값을 가지는 격자를 활용하여 적절한 cluster개수를 찾는다"
   ]
  },
  {
   "cell_type": "code",
   "execution_count": null,
   "metadata": {},
   "outputs": [],
   "source": [
    "for k in Dong_dict:\n",
    "    data_list=[]     #KMeans에 활용할 데이터를 모아두는 list\n",
    "    for i in Dong_dict[k]:     # 각 동을 모아둔 dictionary\n",
    "        if grid_to_array(i)[2]>=8:\n",
    "            data_list.append(grid_to_array(i))\n",
    "    num_clusters=list(range(1,6))\n",
    "    inertias=[]\n",
    "    for j in num_clusters:\n",
    "        model=KMeans(n_clusters=j)\n",
    "        model.fit(data_list)\n",
    "        inertias.append(model.inertia_)\n",
    "    plt.plot(num_clusters, inertias, '-o')\n",
    "    plt.xlabel('Number of Clusters (k)')\n",
    "    plt.ylabel('Inertia')\n",
    "    plt.title(k)\n",
    "    plt.show()\n",
    "    print(k)\n",
    "\"\"\"\n",
    "그래프의 결과를 보면 박달1동, 관양2동 의 경우 elbow의 위치로 보아 클러스터의 개수가 3개로 적절하고\n",
    "그 외의 그래프는 2개가 적절하다. 그러므로 위의 두 지역에는 3개, 그 외의 지역에는 2개식 고르게 우선적으로 배치한다.\n",
    "\"\"\""
   ]
  },
  {
   "cell_type": "code",
   "execution_count": null,
   "metadata": {},
   "outputs": [],
   "source": [
    "center_list=[]     # 각 cluster의 중심 위치를 담을 list\n",
    "for k in Dong_dict:      # 각 동을 모아둔 dictionary\n",
    "    num_clusters=2\n",
    "    if k in ['박달1동','관양2동']:     #위으 결과에서 박달1동과,관양2동은 3개의 클러스터가 적절하므로 해당 동만 3개로 설정\n",
    "        num_clusters=3\n",
    "        \n",
    "    kmeans_list=[]     # 고려할 격자들을 모아두는 list\n",
    "    for l in Dong_dict[k]:\n",
    "        if grid_to_array(l)[2]>=12:     # 임계값은 12가 최대값이고 해당 값으로 cluster을 찾아야 가장 인구 밀도가 높은 점을 위주로 찾기에 여기서는 12로 설정\n",
    "            kmeans_list.append(grid_to_array(l))\n",
    "    model=KMeans(n_clusters=num_clusters, n_init=100,max_iter=30000,tol=0.000001)\n",
    "    model.fit(kmeans_list)\n",
    "    center_list.append(model.cluster_centers_)\n",
    "    "
   ]
  },
  {
   "cell_type": "markdown",
   "metadata": {},
   "source": [
    "# KMeans를 통해 구한 좌표들을 지도에 시각화 한다."
   ]
  },
  {
   "cell_type": "code",
   "execution_count": null,
   "metadata": {},
   "outputs": [],
   "source": [
    "center = (37.403109, 126.932585); zoom = 14\n",
    "# 배경 지도 설정\n",
    "m = folium.Map(location=center,\n",
    "           zoom_start=zoom,\n",
    "           tiles='http://api.vworld.kr/req/wmts/1.0.0/80F9E6B6-38BE-3770-AA9B-2C9ADEDD0458/Base/{z}/{y}/{x}.png',\n",
    "           attr='안양시'\n",
    "              )\n",
    "grid_data = gpd.read_file('Grid.geojson') # 격자별 데이터셋\n",
    "\n",
    "m.choropleth(\n",
    "    geo_data=grid_data,\n",
    "    data=grid_data,\n",
    "    columns=['PrimaryKey', 'All_score'],\n",
    "    key_on='feature.properties.PrimaryKey',\n",
    "    fill_color='BuPu',\n",
    "    fill_opacity=0.5,\n",
    "    line_opacity=0.5,\n",
    "    color = 'gray',\n",
    "    legend_name = 'All_score'\n",
    ")\n",
    "# 행정경계 선 추가\n",
    "rfile = open('24.안양시_행정경계(읍면동).geojson', 'r').read()\n",
    "jsonData = json.loads(rfile)\n",
    "folium.GeoJson(jsonData, name='json_data').add_to(m)\n",
    "\n",
    "# kmeans를 통한 결과 좌표 추가\n",
    "for row in center_list:\n",
    "    folium.Marker([row[0][1], row[0][0]]).add_to(m)\n",
    "    folium.Marker([row[1][1], row[1][0]]).add_to(m)\n",
    "    try:\n",
    "        folium.Marker([row[2][1], row[2][0]]).add_to(m)\n",
    "    except:\n",
    "        continue\n",
    "folium.LayerControl().add_to(m)\n",
    "# Save to html\n",
    "m.save('All_score_only_2_has_3_clusters.html')"
   ]
  },
  {
   "cell_type": "markdown",
   "metadata": {},
   "source": [
    "# 그 외의 16개의 복합센서"
   ]
  },
  {
   "cell_type": "markdown",
   "metadata": {},
   "source": [
    "##### 복합센서를 통해서 각 지역의 폭염 및 온열지수를 산출하여 노인 및 유소년 등 취약 계층을 위한 정책 근거로 활용 가능\n",
    "\n",
    "##### 각각 유소년인구분포, 노인 인구분포를 고려하여 가장 많은 지역 8개를 선정하여 그곳의 격자에 설치한다"
   ]
  },
  {
   "cell_type": "code",
   "execution_count": null,
   "metadata": {},
   "outputs": [],
   "source": [
    "def old():\n",
    "    result=[]\n",
    "    for i in range(8):\n",
    "        old_data = grid_df.sort_values(['old_people'],ascending=[False]).iloc[:8]\n",
    "        x,y = old_data.iloc[i]['Lon'],old_data.iloc[i]['Lat']\n",
    "        index=Search_index([x,y])\n",
    "        result.append(index)\n",
    "    return result\n",
    "\n",
    "def young():\n",
    "    result=[]\n",
    "    for i in range(8):\n",
    "        old_data = grid_df.sort_values(['youth'],ascending=[False]).iloc[:8]\n",
    "        x,y = old_data.iloc[i]['Lon'],old_data.iloc[i]['Lat']\n",
    "        index=Search_index([x,y])\n",
    "        result.append(index)\n",
    "    return result\n",
    "\n",
    "olist = old()\n",
    "ylist = young()\n"
   ]
  },
  {
   "cell_type": "markdown",
   "metadata": {},
   "source": [
    "# 복합센서 최종 설치지역"
   ]
  },
  {
   "cell_type": "code",
   "execution_count": null,
   "metadata": {},
   "outputs": [],
   "source": [
    "empty_values=[]\n",
    "for row in center_list:\n",
    "    if len(row)==2:\n",
    "        index_1 = Search_index([row[0][0],row[0][1]])\n",
    "        index_2 = Search_index([row[1][0],row[1][1]])\n",
    "        empty_values.append(index_1)\n",
    "        empty_values.append(index_2)\n",
    "    else :\n",
    "        index_1 = Search_index([row[0][0],row[0][1]])\n",
    "        index_2 = Search_index([row[1][0],row[1][1]])\n",
    "        index_3 = Search_index([row[2][0],row[2][1]])\n",
    "        empty_values.append(index_1)\n",
    "        empty_values.append(index_2)\n",
    "        empty_values.append(index_3)\n",
    "        \n",
    "        \n",
    "values = empty_values+olist+ylist\n",
    "\n",
    "last_grid_list=[]\n",
    "for i in values:\n",
    "    grid = Grid_list[i]\n",
    "    last_grid_list.append(grid)\n",
    "구_list=['안양1동','안양2동','안양3동','안양4동','안양5동','안양6동','안양7동','안양8동','안양9동','석수1동','석수2동','석수3동','박달1동','박달2동']\n",
    "df_list=[]\n",
    "for j in last_grid_list:\n",
    "    temp=[]\n",
    "    if j.Dong in 구_list:\n",
    "        x='경기도 안양시 만안구 '+j.Dong\n",
    "    else:\n",
    "        x='경기도 안양시 동안구 '+j.Dong\n",
    "    temp.append(x)\n",
    "    temp.append(j.Lon)\n",
    "    temp.append(j.Lat)\n",
    "    temp.append('')\n",
    "    temp.append(j.Population)\n",
    "    df_list.append(temp)\n",
    "\n",
    "new_df_list = sorted(df_list, key=lambda df_list:df_list[4],reverse=True)\n",
    "for k,l in enumerate(new_df_list):\n",
    "    l.insert(0,k+1)\n",
    "Last_result = pd.DataFrame(np.array(new_df_list)[:,:5],columns=['우선순위','주소(동명포함)','X좌표(경도)','Y좌표(위도)','비고'])\n",
    "print(\"복합센서 설치\")\n",
    "Last_result.to_csv('복합센서_결과파일.csv')\n",
    "Last_result\n"
   ]
  },
  {
   "cell_type": "markdown",
   "metadata": {},
   "source": [
    "# 복합센서 시각화"
   ]
  },
  {
   "cell_type": "code",
   "execution_count": null,
   "metadata": {},
   "outputs": [],
   "source": [
    "data = Last_result.values[:,2:4]\n",
    "center = (37.403109, 126.932585); zoom = 14\n",
    "# 배경 지도 설정\n",
    "m = folium.Map(location=center,\n",
    "           zoom_start=zoom,\n",
    "           tiles='http://api.vworld.kr/req/wmts/1.0.0/80F9E6B6-38BE-3770-AA9B-2C9ADEDD0458/Base/{z}/{y}/{x}.png',\n",
    "           attr='안양시'\n",
    "              )\n",
    "grid_data = gpd.read_file('Grid.geojson') # 격자별 데이터셋\n",
    "\n",
    "m.choropleth(\n",
    "    geo_data=grid_data,\n",
    "    data=grid_data,\n",
    "    columns=['PrimaryKey', 'All_score'],\n",
    "    key_on='feature.properties.PrimaryKey',\n",
    "    fill_color='BuPu',\n",
    "    fill_opacity=0.5,\n",
    "    line_opacity=0.5,\n",
    "    color = 'gray',\n",
    "    legend_name = 'All_score'\n",
    ")\n",
    "# 행정경계 선 추가\n",
    "rfile = open('24.안양시_행정경계(읍면동).geojson', 'r').read()\n",
    "jsonData = json.loads(rfile)\n",
    "folium.GeoJson(jsonData, name='json_data').add_to(m)\n",
    "\n",
    "# kmeans를 통한 결과 좌표 추가\n",
    "for row in data:\n",
    "    folium.Marker([float(row[1]),float(row[0])],\n",
    "                    icon = folium.Icon(color='green')\n",
    "                 ).add_to(m)\n",
    "    \n",
    "folium.LayerControl().add_to(m)\n",
    "# Save to html\n",
    "m.save('복합센서_시각화파일.html')"
   ]
  },
  {
   "cell_type": "markdown",
   "metadata": {},
   "source": [
    "# 미세먼지센서"
   ]
  },
  {
   "cell_type": "code",
   "execution_count": null,
   "metadata": {},
   "outputs": [],
   "source": [
    "# lst 내의 딕셔너리 key column의 값이 value인 경우 해당 인덱스 리턴\n",
    "def find(lst, key, value): \n",
    "    for i, dic in enumerate(lst):\n",
    "        if dic[key] == value:\n",
    "            return i\n",
    "    return -1\n",
    "\n",
    "traffic = pd.read_csv('18.안양시_교통량정보.csv') # 안양시 교통량 데이터셋\n",
    "id_list = traffic['kslinkid'] # 링크 아이디 리스트\n",
    "\n",
    "node = pd.read_csv('16.안양시_노드정보.csv') # 안양시 노드 데이터셋\n",
    "nid_list = node[node['NODE_ID'].isin(id_list)]['NODE_ID'] # 교통량 정보에 포함된 노드 아이디 리스트\n",
    "\n",
    "date_list = np.array(list(set(traffic['dt']))) # 교통량 데이터셋에 포함된 날짜 리스트\n",
    "result = [{'NODE_ID': nid, 'sum_probecount': []} for nid in nid_list] # 결과 저장을 위한 변수 선언\n",
    "\n",
    "for date in date_list: # 날짜별로 반복\n",
    "    tmp = traffic[traffic['dt'] == date]\n",
    "    \n",
    "    for nid in nid_list: # 노드 아이디 리스트의 노드 아이디로 반복\n",
    "        idx = find(result, 'NODE_ID', nid)\n",
    "        sum_probecount = sum(tmp[tmp['kslinkid'] == nid]['sum_probecount']) # 해당 노드의 하루 통과 차량\n",
    "        result[idx]['sum_probecount'].append(sum_probecount)\n",
    "        \n",
    "for dic in result:\n",
    "    dic['sum_probecount'] = sum(dic['sum_probecount']) / len(dic['sum_probecount']) # 하루 평균 통과차량 수 산출\n",
    "        \n",
    "result = pd.DataFrame(result)\n",
    "\n",
    "result.sort_values(by=['sum_probecount'], axis=0, ascending=False, inplace=True) # 내림차순으로 정렬\n",
    "\n",
    "final = pd.merge(result, node, on=\"NODE_ID\") # 노드 아이디로 병합\n",
    "\n",
    "# 시각화\n",
    "center = (37.403109, 126.932585); zoom = 14\n",
    "\n",
    "m = folium.Map(location=center,\n",
    "           zoom_start=zoom,\n",
    "           tiles='http://api.vworld.kr/req/wmts/1.0.0/80F9E6B6-38BE-3770-AA9B-2C9ADEDD0458/Base/{z}/{y}/{x}.png',\n",
    "           attr='안양시'\n",
    "              )\n",
    "\n",
    "dataset = final.iloc[:40] # 상위 40개 추림\n",
    "\n",
    "for index, row in dataset.iterrows():\n",
    "    folium.Marker([row['lat'], row['lon']]).add_to(m)\n",
    "    \n",
    "folium.LayerControl().add_to(m)\n",
    "\n",
    "# Save to html\n",
    "m.save('교통량top40.html')\n",
    "dataset.to_csv('미세먼지_최종결과.csv')"
   ]
  },
  {
   "cell_type": "code",
   "execution_count": null,
   "metadata": {},
   "outputs": [],
   "source": [
    "def to_grid():\n",
    "    result=[]\n",
    "    for i in range(40):\n",
    "        x,y = dataset.iloc[i]['lon'],dataset.iloc[i]['lat']\n",
    "        index=Search_index([x,y])\n",
    "        result.append(index)\n",
    "    return result"
   ]
  },
  {
   "cell_type": "code",
   "execution_count": null,
   "metadata": {},
   "outputs": [],
   "source": [
    "values = to_grid()"
   ]
  },
  {
   "cell_type": "code",
   "execution_count": null,
   "metadata": {},
   "outputs": [],
   "source": [
    "     \n",
    "last_grid_list=[]\n",
    "for i in values:\n",
    "    grid = Grid_list[i]\n",
    "    last_grid_list.append(grid)\n",
    "구_list=['안양1동','안양2동','안양3동','안양4동','안양5동','안양6동','안양7동','안양8동','안양9동','석수1동','석수2동','석수3동','박달1동','박달2동']\n",
    "df_list=[]\n",
    "for j in last_grid_list:\n",
    "    temp=[]\n",
    "    if j.Dong in 구_list:\n",
    "        x='경기도 안양시 만안구 '+j.Dong\n",
    "    else:\n",
    "        x='경기도 안양시 동안구 '+j.Dong\n",
    "    temp.append(x)\n",
    "    temp.append(j.Lon)\n",
    "    temp.append(j.Lat)\n",
    "    temp.append('')\n",
    "    temp.append(j.Population)\n",
    "    df_list.append(temp)\n",
    "\n",
    "new_df_list = sorted(df_list, key=lambda df_list:df_list[4],reverse=True)\n",
    "for k,l in enumerate(new_df_list):\n",
    "    l.insert(0,k+1)\n",
    "Last_result_ = pd.DataFrame(np.array(new_df_list)[:,:5],columns=['우선순위','주소(동명포함)','X좌표(경도)','Y좌표(위도)','비고'])\n",
    "print(\"미세먼지파일 설치\")\n",
    "Last_result_.to_csv('미세먼지센서_결과파일.csv')\n",
    "Last_result_"
   ]
  },
  {
   "cell_type": "markdown",
   "metadata": {},
   "source": [
    "# 미세먼지 센서 설치위치 시각화"
   ]
  },
  {
   "cell_type": "code",
   "execution_count": null,
   "metadata": {},
   "outputs": [],
   "source": [
    "data_ = Last_result_.values[:,2:4]\n",
    "center = (37.403109, 126.932585); zoom = 14\n",
    "# 배경 지도 설정\n",
    "m = folium.Map(location=center,\n",
    "           zoom_start=zoom,\n",
    "           tiles='http://api.vworld.kr/req/wmts/1.0.0/80F9E6B6-38BE-3770-AA9B-2C9ADEDD0458/Base/{z}/{y}/{x}.png',\n",
    "           attr='안양시'\n",
    "              )\n",
    "grid_data = gpd.read_file('Grid.geojson') # 격자별 데이터셋\n",
    "\n",
    "m.choropleth(\n",
    "    geo_data=grid_data,\n",
    "    data=grid_data,\n",
    "    columns=['PrimaryKey', 'All_score'],\n",
    "    key_on='feature.properties.PrimaryKey',\n",
    "    fill_color='BuPu',\n",
    "    fill_opacity=0.5,\n",
    "    line_opacity=0.5,\n",
    "    color = 'gray',\n",
    "    legend_name = 'All_score'\n",
    ")\n",
    "# 행정경계 선 추가\n",
    "rfile = open('24.안양시_행정경계(읍면동).geojson', 'r').read()\n",
    "jsonData = json.loads(rfile)\n",
    "folium.GeoJson(jsonData, name='json_data').add_to(m)\n",
    "\n",
    "# kmeans를 통한 결과 좌표 추가\n",
    "for row in data_:\n",
    "    folium.Marker([float(row[1]),float(row[0])]).add_to(m)\n",
    "    \n",
    "folium.LayerControl().add_to(m)\n",
    "# Save to html\n",
    "m.save('미세먼지센서_시각화파일.html')"
   ]
  },
  {
   "cell_type": "markdown",
   "metadata": {},
   "source": [
    "# 복합센서 + 미세먼지센서 시각화"
   ]
  },
  {
   "cell_type": "code",
   "execution_count": null,
   "metadata": {},
   "outputs": [],
   "source": [
    "from folium import plugins\n",
    "center = (37.403109, 126.932585); zoom = 14\n",
    "# 배경 지도 설정\n",
    "m = folium.Map(location=center,\n",
    "           zoom_start=zoom,\n",
    "           tiles='http://api.vworld.kr/req/wmts/1.0.0/80F9E6B6-38BE-3770-AA9B-2C9ADEDD0458/Base/{z}/{y}/{x}.png',\n",
    "           attr='안양시'\n",
    "              )\n",
    "grid_data = gpd.read_file('Grid.geojson') # 격자별 데이터셋\n",
    "\n",
    "fg=folium.FeatureGroup(name='Groups')\n",
    "m.add_child(fg)\n",
    "iot_sensor=folium.plugins.FeatureGroupSubGroup(fg,'IoT_Sensor')\n",
    "m.add_child(iot_sensor)\n",
    "fine_dust_sensor=folium.plugins.FeatureGroupSubGroup(fg,'Fine_Dust_Sensor')\n",
    "m.add_child(fine_dust_sensor)\n",
    "\n",
    "m.choropleth(\n",
    "    name='Grid',\n",
    "    geo_data=grid_data,\n",
    "    data=grid_data,\n",
    "    columns=['PrimaryKey', 'All_score'],\n",
    "    key_on='feature.properties.PrimaryKey',\n",
    "    fill_color='BuPu',\n",
    "    fill_opacity=0.5,\n",
    "    line_opacity=0.5,\n",
    "    color = 'gray',\n",
    "    legend_name = 'All_score'\n",
    ")\n",
    "# 행정경계 선 추가\n",
    "rfile = open('24.안양시_행정경계(읍면동).geojson', 'r').read()\n",
    "jsonData = json.loads(rfile)\n",
    "folium.GeoJson(jsonData, name='행정경계선').add_to(m)\n",
    "\n",
    "# kmeans를 통한 결과 좌표 추가\n",
    "for row in data:\n",
    "    folium.Marker([float(row[1]),float(row[0])],\n",
    "                    icon = folium.Icon(color='green')\n",
    "                 ).add_to(iot_sensor)\n",
    "\n",
    "for row in data_:\n",
    "    folium.Marker([float(row[1]),float(row[0])]).add_to(fine_dust_sensor)\n",
    "    \n",
    "folium.LayerControl().add_to(m)\n",
    "# Save to html\n",
    "m.save('복합센서+미세먼지센서_시각화.html')"
   ]
  },
  {
   "cell_type": "code",
   "execution_count": null,
   "metadata": {},
   "outputs": [],
   "source": []
  },
  {
   "cell_type": "code",
   "execution_count": null,
   "metadata": {},
   "outputs": [],
   "source": []
  }
 ],
 "metadata": {
  "kernelspec": {
   "display_name": "Python 3",
   "language": "python",
   "name": "python3"
  },
  "language_info": {
   "codemirror_mode": {
    "name": "ipython",
    "version": 3
   },
   "file_extension": ".py",
   "mimetype": "text/x-python",
   "name": "python",
   "nbconvert_exporter": "python",
   "pygments_lexer": "ipython3",
   "version": "3.8.3"
  }
 },
 "nbformat": 4,
 "nbformat_minor": 4
}
